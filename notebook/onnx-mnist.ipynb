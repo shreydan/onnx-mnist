{
 "cells": [
  {
   "cell_type": "markdown",
   "id": "ed7a70e9",
   "metadata": {
    "papermill": {
     "duration": 0.028914,
     "end_time": "2023-03-08T16:31:04.002353",
     "exception": false,
     "start_time": "2023-03-08T16:31:03.973439",
     "status": "completed"
    },
    "tags": []
   },
   "source": [
    "# ONNX"
   ]
  },
  {
   "cell_type": "code",
   "execution_count": 1,
   "id": "1c9cbf69",
   "metadata": {
    "_cell_guid": "b1076dfc-b9ad-4769-8c92-a6c4dae69d19",
    "_kg_hide-input": true,
    "_uuid": "8f2839f25d086af736a60e9eeb907d3b93b6e0e5",
    "execution": {
     "iopub.execute_input": "2023-03-08T16:31:04.058713Z",
     "iopub.status.busy": "2023-03-08T16:31:04.057242Z",
     "iopub.status.idle": "2023-03-08T16:31:04.068689Z",
     "shell.execute_reply": "2023-03-08T16:31:04.069217Z",
     "shell.execute_reply.started": "2023-03-08T16:19:37.811010Z"
    },
    "papermill": {
     "duration": 0.041259,
     "end_time": "2023-03-08T16:31:04.069459",
     "exception": false,
     "start_time": "2023-03-08T16:31:04.028200",
     "status": "completed"
    },
    "tags": []
   },
   "outputs": [
    {
     "name": "stdout",
     "output_type": "stream",
     "text": [
      "/kaggle/input/digit-recognizer/sample_submission.csv\n",
      "/kaggle/input/digit-recognizer/train.csv\n",
      "/kaggle/input/digit-recognizer/test.csv\n"
     ]
    }
   ],
   "source": [
    "import numpy as np\n",
    "import pandas as pd \n",
    "import os\n",
    "for dirname, _, filenames in os.walk('/kaggle/input'):\n",
    "    for filename in filenames:\n",
    "        print(os.path.join(dirname, filename))"
   ]
  },
  {
   "cell_type": "code",
   "execution_count": 2,
   "id": "7210ee6f",
   "metadata": {
    "execution": {
     "iopub.execute_input": "2023-03-08T16:31:04.125718Z",
     "iopub.status.busy": "2023-03-08T16:31:04.125095Z",
     "iopub.status.idle": "2023-03-08T16:31:08.899537Z",
     "shell.execute_reply": "2023-03-08T16:31:08.898617Z",
     "shell.execute_reply.started": "2023-03-08T16:19:37.821499Z"
    },
    "papermill": {
     "duration": 4.804212,
     "end_time": "2023-03-08T16:31:08.899682",
     "exception": false,
     "start_time": "2023-03-08T16:31:04.095470",
     "status": "completed"
    },
    "tags": []
   },
   "outputs": [],
   "source": [
    "train_df = pd.read_csv('/kaggle/input/digit-recognizer/train.csv')\n",
    "test_df = pd.read_csv('/kaggle/input/digit-recognizer/test.csv')"
   ]
  },
  {
   "cell_type": "code",
   "execution_count": 3,
   "id": "1c096b17",
   "metadata": {
    "execution": {
     "iopub.execute_input": "2023-03-08T16:31:08.959663Z",
     "iopub.status.busy": "2023-03-08T16:31:08.958829Z",
     "iopub.status.idle": "2023-03-08T16:31:08.975103Z",
     "shell.execute_reply": "2023-03-08T16:31:08.975530Z",
     "shell.execute_reply.started": "2023-03-08T16:19:41.067436Z"
    },
    "papermill": {
     "duration": 0.05037,
     "end_time": "2023-03-08T16:31:08.975675",
     "exception": false,
     "start_time": "2023-03-08T16:31:08.925305",
     "status": "completed"
    },
    "tags": []
   },
   "outputs": [
    {
     "data": {
      "text/html": [
       "<div>\n",
       "<style scoped>\n",
       "    .dataframe tbody tr th:only-of-type {\n",
       "        vertical-align: middle;\n",
       "    }\n",
       "\n",
       "    .dataframe tbody tr th {\n",
       "        vertical-align: top;\n",
       "    }\n",
       "\n",
       "    .dataframe thead th {\n",
       "        text-align: right;\n",
       "    }\n",
       "</style>\n",
       "<table border=\"1\" class=\"dataframe\">\n",
       "  <thead>\n",
       "    <tr style=\"text-align: right;\">\n",
       "      <th></th>\n",
       "      <th>label</th>\n",
       "      <th>pixel0</th>\n",
       "      <th>pixel1</th>\n",
       "      <th>pixel2</th>\n",
       "      <th>pixel3</th>\n",
       "      <th>pixel4</th>\n",
       "      <th>pixel5</th>\n",
       "      <th>pixel6</th>\n",
       "      <th>pixel7</th>\n",
       "      <th>pixel8</th>\n",
       "      <th>...</th>\n",
       "      <th>pixel774</th>\n",
       "      <th>pixel775</th>\n",
       "      <th>pixel776</th>\n",
       "      <th>pixel777</th>\n",
       "      <th>pixel778</th>\n",
       "      <th>pixel779</th>\n",
       "      <th>pixel780</th>\n",
       "      <th>pixel781</th>\n",
       "      <th>pixel782</th>\n",
       "      <th>pixel783</th>\n",
       "    </tr>\n",
       "  </thead>\n",
       "  <tbody>\n",
       "    <tr>\n",
       "      <th>0</th>\n",
       "      <td>1</td>\n",
       "      <td>0</td>\n",
       "      <td>0</td>\n",
       "      <td>0</td>\n",
       "      <td>0</td>\n",
       "      <td>0</td>\n",
       "      <td>0</td>\n",
       "      <td>0</td>\n",
       "      <td>0</td>\n",
       "      <td>0</td>\n",
       "      <td>...</td>\n",
       "      <td>0</td>\n",
       "      <td>0</td>\n",
       "      <td>0</td>\n",
       "      <td>0</td>\n",
       "      <td>0</td>\n",
       "      <td>0</td>\n",
       "      <td>0</td>\n",
       "      <td>0</td>\n",
       "      <td>0</td>\n",
       "      <td>0</td>\n",
       "    </tr>\n",
       "    <tr>\n",
       "      <th>1</th>\n",
       "      <td>0</td>\n",
       "      <td>0</td>\n",
       "      <td>0</td>\n",
       "      <td>0</td>\n",
       "      <td>0</td>\n",
       "      <td>0</td>\n",
       "      <td>0</td>\n",
       "      <td>0</td>\n",
       "      <td>0</td>\n",
       "      <td>0</td>\n",
       "      <td>...</td>\n",
       "      <td>0</td>\n",
       "      <td>0</td>\n",
       "      <td>0</td>\n",
       "      <td>0</td>\n",
       "      <td>0</td>\n",
       "      <td>0</td>\n",
       "      <td>0</td>\n",
       "      <td>0</td>\n",
       "      <td>0</td>\n",
       "      <td>0</td>\n",
       "    </tr>\n",
       "    <tr>\n",
       "      <th>2</th>\n",
       "      <td>1</td>\n",
       "      <td>0</td>\n",
       "      <td>0</td>\n",
       "      <td>0</td>\n",
       "      <td>0</td>\n",
       "      <td>0</td>\n",
       "      <td>0</td>\n",
       "      <td>0</td>\n",
       "      <td>0</td>\n",
       "      <td>0</td>\n",
       "      <td>...</td>\n",
       "      <td>0</td>\n",
       "      <td>0</td>\n",
       "      <td>0</td>\n",
       "      <td>0</td>\n",
       "      <td>0</td>\n",
       "      <td>0</td>\n",
       "      <td>0</td>\n",
       "      <td>0</td>\n",
       "      <td>0</td>\n",
       "      <td>0</td>\n",
       "    </tr>\n",
       "    <tr>\n",
       "      <th>3</th>\n",
       "      <td>4</td>\n",
       "      <td>0</td>\n",
       "      <td>0</td>\n",
       "      <td>0</td>\n",
       "      <td>0</td>\n",
       "      <td>0</td>\n",
       "      <td>0</td>\n",
       "      <td>0</td>\n",
       "      <td>0</td>\n",
       "      <td>0</td>\n",
       "      <td>...</td>\n",
       "      <td>0</td>\n",
       "      <td>0</td>\n",
       "      <td>0</td>\n",
       "      <td>0</td>\n",
       "      <td>0</td>\n",
       "      <td>0</td>\n",
       "      <td>0</td>\n",
       "      <td>0</td>\n",
       "      <td>0</td>\n",
       "      <td>0</td>\n",
       "    </tr>\n",
       "    <tr>\n",
       "      <th>4</th>\n",
       "      <td>0</td>\n",
       "      <td>0</td>\n",
       "      <td>0</td>\n",
       "      <td>0</td>\n",
       "      <td>0</td>\n",
       "      <td>0</td>\n",
       "      <td>0</td>\n",
       "      <td>0</td>\n",
       "      <td>0</td>\n",
       "      <td>0</td>\n",
       "      <td>...</td>\n",
       "      <td>0</td>\n",
       "      <td>0</td>\n",
       "      <td>0</td>\n",
       "      <td>0</td>\n",
       "      <td>0</td>\n",
       "      <td>0</td>\n",
       "      <td>0</td>\n",
       "      <td>0</td>\n",
       "      <td>0</td>\n",
       "      <td>0</td>\n",
       "    </tr>\n",
       "  </tbody>\n",
       "</table>\n",
       "<p>5 rows × 785 columns</p>\n",
       "</div>"
      ],
      "text/plain": [
       "   label  pixel0  pixel1  pixel2  pixel3  pixel4  pixel5  pixel6  pixel7  \\\n",
       "0      1       0       0       0       0       0       0       0       0   \n",
       "1      0       0       0       0       0       0       0       0       0   \n",
       "2      1       0       0       0       0       0       0       0       0   \n",
       "3      4       0       0       0       0       0       0       0       0   \n",
       "4      0       0       0       0       0       0       0       0       0   \n",
       "\n",
       "   pixel8  ...  pixel774  pixel775  pixel776  pixel777  pixel778  pixel779  \\\n",
       "0       0  ...         0         0         0         0         0         0   \n",
       "1       0  ...         0         0         0         0         0         0   \n",
       "2       0  ...         0         0         0         0         0         0   \n",
       "3       0  ...         0         0         0         0         0         0   \n",
       "4       0  ...         0         0         0         0         0         0   \n",
       "\n",
       "   pixel780  pixel781  pixel782  pixel783  \n",
       "0         0         0         0         0  \n",
       "1         0         0         0         0  \n",
       "2         0         0         0         0  \n",
       "3         0         0         0         0  \n",
       "4         0         0         0         0  \n",
       "\n",
       "[5 rows x 785 columns]"
      ]
     },
     "execution_count": 3,
     "metadata": {},
     "output_type": "execute_result"
    }
   ],
   "source": [
    "train_df.head()"
   ]
  },
  {
   "cell_type": "code",
   "execution_count": 4,
   "id": "3dc05b62",
   "metadata": {
    "execution": {
     "iopub.execute_input": "2023-03-08T16:31:09.043643Z",
     "iopub.status.busy": "2023-03-08T16:31:09.042886Z",
     "iopub.status.idle": "2023-03-08T16:31:09.046337Z",
     "shell.execute_reply": "2023-03-08T16:31:09.047203Z",
     "shell.execute_reply.started": "2023-03-08T16:19:41.090051Z"
    },
    "papermill": {
     "duration": 0.045538,
     "end_time": "2023-03-08T16:31:09.047430",
     "exception": false,
     "start_time": "2023-03-08T16:31:09.001892",
     "status": "completed"
    },
    "tags": []
   },
   "outputs": [
    {
     "data": {
      "text/html": [
       "<div>\n",
       "<style scoped>\n",
       "    .dataframe tbody tr th:only-of-type {\n",
       "        vertical-align: middle;\n",
       "    }\n",
       "\n",
       "    .dataframe tbody tr th {\n",
       "        vertical-align: top;\n",
       "    }\n",
       "\n",
       "    .dataframe thead th {\n",
       "        text-align: right;\n",
       "    }\n",
       "</style>\n",
       "<table border=\"1\" class=\"dataframe\">\n",
       "  <thead>\n",
       "    <tr style=\"text-align: right;\">\n",
       "      <th></th>\n",
       "      <th>pixel0</th>\n",
       "      <th>pixel1</th>\n",
       "      <th>pixel2</th>\n",
       "      <th>pixel3</th>\n",
       "      <th>pixel4</th>\n",
       "      <th>pixel5</th>\n",
       "      <th>pixel6</th>\n",
       "      <th>pixel7</th>\n",
       "      <th>pixel8</th>\n",
       "      <th>pixel9</th>\n",
       "      <th>...</th>\n",
       "      <th>pixel774</th>\n",
       "      <th>pixel775</th>\n",
       "      <th>pixel776</th>\n",
       "      <th>pixel777</th>\n",
       "      <th>pixel778</th>\n",
       "      <th>pixel779</th>\n",
       "      <th>pixel780</th>\n",
       "      <th>pixel781</th>\n",
       "      <th>pixel782</th>\n",
       "      <th>pixel783</th>\n",
       "    </tr>\n",
       "  </thead>\n",
       "  <tbody>\n",
       "    <tr>\n",
       "      <th>0</th>\n",
       "      <td>0</td>\n",
       "      <td>0</td>\n",
       "      <td>0</td>\n",
       "      <td>0</td>\n",
       "      <td>0</td>\n",
       "      <td>0</td>\n",
       "      <td>0</td>\n",
       "      <td>0</td>\n",
       "      <td>0</td>\n",
       "      <td>0</td>\n",
       "      <td>...</td>\n",
       "      <td>0</td>\n",
       "      <td>0</td>\n",
       "      <td>0</td>\n",
       "      <td>0</td>\n",
       "      <td>0</td>\n",
       "      <td>0</td>\n",
       "      <td>0</td>\n",
       "      <td>0</td>\n",
       "      <td>0</td>\n",
       "      <td>0</td>\n",
       "    </tr>\n",
       "    <tr>\n",
       "      <th>1</th>\n",
       "      <td>0</td>\n",
       "      <td>0</td>\n",
       "      <td>0</td>\n",
       "      <td>0</td>\n",
       "      <td>0</td>\n",
       "      <td>0</td>\n",
       "      <td>0</td>\n",
       "      <td>0</td>\n",
       "      <td>0</td>\n",
       "      <td>0</td>\n",
       "      <td>...</td>\n",
       "      <td>0</td>\n",
       "      <td>0</td>\n",
       "      <td>0</td>\n",
       "      <td>0</td>\n",
       "      <td>0</td>\n",
       "      <td>0</td>\n",
       "      <td>0</td>\n",
       "      <td>0</td>\n",
       "      <td>0</td>\n",
       "      <td>0</td>\n",
       "    </tr>\n",
       "    <tr>\n",
       "      <th>2</th>\n",
       "      <td>0</td>\n",
       "      <td>0</td>\n",
       "      <td>0</td>\n",
       "      <td>0</td>\n",
       "      <td>0</td>\n",
       "      <td>0</td>\n",
       "      <td>0</td>\n",
       "      <td>0</td>\n",
       "      <td>0</td>\n",
       "      <td>0</td>\n",
       "      <td>...</td>\n",
       "      <td>0</td>\n",
       "      <td>0</td>\n",
       "      <td>0</td>\n",
       "      <td>0</td>\n",
       "      <td>0</td>\n",
       "      <td>0</td>\n",
       "      <td>0</td>\n",
       "      <td>0</td>\n",
       "      <td>0</td>\n",
       "      <td>0</td>\n",
       "    </tr>\n",
       "    <tr>\n",
       "      <th>3</th>\n",
       "      <td>0</td>\n",
       "      <td>0</td>\n",
       "      <td>0</td>\n",
       "      <td>0</td>\n",
       "      <td>0</td>\n",
       "      <td>0</td>\n",
       "      <td>0</td>\n",
       "      <td>0</td>\n",
       "      <td>0</td>\n",
       "      <td>0</td>\n",
       "      <td>...</td>\n",
       "      <td>0</td>\n",
       "      <td>0</td>\n",
       "      <td>0</td>\n",
       "      <td>0</td>\n",
       "      <td>0</td>\n",
       "      <td>0</td>\n",
       "      <td>0</td>\n",
       "      <td>0</td>\n",
       "      <td>0</td>\n",
       "      <td>0</td>\n",
       "    </tr>\n",
       "    <tr>\n",
       "      <th>4</th>\n",
       "      <td>0</td>\n",
       "      <td>0</td>\n",
       "      <td>0</td>\n",
       "      <td>0</td>\n",
       "      <td>0</td>\n",
       "      <td>0</td>\n",
       "      <td>0</td>\n",
       "      <td>0</td>\n",
       "      <td>0</td>\n",
       "      <td>0</td>\n",
       "      <td>...</td>\n",
       "      <td>0</td>\n",
       "      <td>0</td>\n",
       "      <td>0</td>\n",
       "      <td>0</td>\n",
       "      <td>0</td>\n",
       "      <td>0</td>\n",
       "      <td>0</td>\n",
       "      <td>0</td>\n",
       "      <td>0</td>\n",
       "      <td>0</td>\n",
       "    </tr>\n",
       "  </tbody>\n",
       "</table>\n",
       "<p>5 rows × 784 columns</p>\n",
       "</div>"
      ],
      "text/plain": [
       "   pixel0  pixel1  pixel2  pixel3  pixel4  pixel5  pixel6  pixel7  pixel8  \\\n",
       "0       0       0       0       0       0       0       0       0       0   \n",
       "1       0       0       0       0       0       0       0       0       0   \n",
       "2       0       0       0       0       0       0       0       0       0   \n",
       "3       0       0       0       0       0       0       0       0       0   \n",
       "4       0       0       0       0       0       0       0       0       0   \n",
       "\n",
       "   pixel9  ...  pixel774  pixel775  pixel776  pixel777  pixel778  pixel779  \\\n",
       "0       0  ...         0         0         0         0         0         0   \n",
       "1       0  ...         0         0         0         0         0         0   \n",
       "2       0  ...         0         0         0         0         0         0   \n",
       "3       0  ...         0         0         0         0         0         0   \n",
       "4       0  ...         0         0         0         0         0         0   \n",
       "\n",
       "   pixel780  pixel781  pixel782  pixel783  \n",
       "0         0         0         0         0  \n",
       "1         0         0         0         0  \n",
       "2         0         0         0         0  \n",
       "3         0         0         0         0  \n",
       "4         0         0         0         0  \n",
       "\n",
       "[5 rows x 784 columns]"
      ]
     },
     "execution_count": 4,
     "metadata": {},
     "output_type": "execute_result"
    }
   ],
   "source": [
    "test_df.head()"
   ]
  },
  {
   "cell_type": "code",
   "execution_count": 5,
   "id": "ecf6e633",
   "metadata": {
    "execution": {
     "iopub.execute_input": "2023-03-08T16:31:09.179184Z",
     "iopub.status.busy": "2023-03-08T16:31:09.178217Z",
     "iopub.status.idle": "2023-03-08T16:31:09.181583Z",
     "shell.execute_reply": "2023-03-08T16:31:09.179938Z",
     "shell.execute_reply.started": "2023-03-08T16:19:41.109373Z"
    },
    "papermill": {
     "duration": 0.075346,
     "end_time": "2023-03-08T16:31:09.181706",
     "exception": false,
     "start_time": "2023-03-08T16:31:09.106360",
     "status": "completed"
    },
    "tags": []
   },
   "outputs": [
    {
     "data": {
      "text/plain": [
       "28000"
      ]
     },
     "execution_count": 5,
     "metadata": {},
     "output_type": "execute_result"
    }
   ],
   "source": [
    "len(test_df)"
   ]
  },
  {
   "cell_type": "markdown",
   "id": "dcf6201b",
   "metadata": {
    "papermill": {
     "duration": 0.040794,
     "end_time": "2023-03-08T16:31:09.284237",
     "exception": false,
     "start_time": "2023-03-08T16:31:09.243443",
     "status": "completed"
    },
    "tags": []
   },
   "source": [
    "# **Visualizing the digits** "
   ]
  },
  {
   "cell_type": "code",
   "execution_count": 6,
   "id": "58a45fbe",
   "metadata": {
    "execution": {
     "iopub.execute_input": "2023-03-08T16:31:09.374949Z",
     "iopub.status.busy": "2023-03-08T16:31:09.374208Z",
     "iopub.status.idle": "2023-03-08T16:31:09.619267Z",
     "shell.execute_reply": "2023-03-08T16:31:09.620231Z",
     "shell.execute_reply.started": "2023-03-08T16:19:41.116304Z"
    },
    "papermill": {
     "duration": 0.296624,
     "end_time": "2023-03-08T16:31:09.620429",
     "exception": false,
     "start_time": "2023-03-08T16:31:09.323805",
     "status": "completed"
    },
    "tags": []
   },
   "outputs": [
    {
     "data": {
      "text/plain": [
       "<matplotlib.image.AxesImage at 0x7f36a5e04b90>"
      ]
     },
     "execution_count": 6,
     "metadata": {},
     "output_type": "execute_result"
    },
    {
     "data": {
      "image/png": "[encoded data removed]",
      "text/plain": [
       "<Figure size 432x288 with 1 Axes>"
      ]
     },
     "metadata": {
      "needs_background": "light"
     },
     "output_type": "display_data"
    }
   ],
   "source": [
    "import matplotlib.pyplot as plt\n",
    "\n",
    "random_digit = train_df.sample().iloc[:,1:].values.reshape(28,28,1)\n",
    "plt.imshow(random_digit, cmap='gray')"
   ]
  },
  {
   "cell_type": "code",
   "execution_count": 7,
   "id": "ec90434a",
   "metadata": {
    "execution": {
     "iopub.execute_input": "2023-03-08T16:31:09.737064Z",
     "iopub.status.busy": "2023-03-08T16:31:09.736083Z",
     "iopub.status.idle": "2023-03-08T16:31:10.469621Z",
     "shell.execute_reply": "2023-03-08T16:31:10.470016Z",
     "shell.execute_reply.started": "2023-03-08T16:19:41.319885Z"
    },
    "papermill": {
     "duration": 0.794205,
     "end_time": "2023-03-08T16:31:10.470194",
     "exception": false,
     "start_time": "2023-03-08T16:31:09.675989",
     "status": "completed"
    },
    "tags": []
   },
   "outputs": [
    {
     "data": {
      "image/png": "[encoded data removed]",
      "text/plain": [
       "<Figure size 1440x216 with 10 Axes>"
      ]
     },
     "metadata": {
      "needs_background": "light"
     },
     "output_type": "display_data"
    }
   ],
   "source": [
    "all_randoms = train_df.sample(frac=1).drop_duplicates('label').sort_values(by='label')\n",
    "figure = plt.figure(figsize=(20,3))\n",
    "for i in range(1, 11):\n",
    "    img = all_randoms.iloc[i-1,1:].values.reshape(28,28)\n",
    "    label = all_randoms.iloc[i-1,0]\n",
    "    figure.add_subplot(1,10,i)\n",
    "    plt.title(label)\n",
    "    plt.axis('off')\n",
    "    plt.imshow(img, cmap='gray')"
   ]
  },
  {
   "cell_type": "code",
   "execution_count": 8,
   "id": "0fafa829",
   "metadata": {
    "execution": {
     "iopub.execute_input": "2023-03-08T16:31:10.534654Z",
     "iopub.status.busy": "2023-03-08T16:31:10.533993Z",
     "iopub.status.idle": "2023-03-08T16:31:10.742236Z",
     "shell.execute_reply": "2023-03-08T16:31:10.742731Z",
     "shell.execute_reply.started": "2023-03-08T16:19:41.956872Z"
    },
    "papermill": {
     "duration": 0.243578,
     "end_time": "2023-03-08T16:31:10.742910",
     "exception": false,
     "start_time": "2023-03-08T16:31:10.499332",
     "status": "completed"
    },
    "tags": []
   },
   "outputs": [
    {
     "data": {
      "text/plain": [
       "<AxesSubplot:>"
      ]
     },
     "execution_count": 8,
     "metadata": {},
     "output_type": "execute_result"
    },
    {
     "data": {
      "image/png": "[encoded data removed]",
      "text/plain": [
       "<Figure size 432x288 with 1 Axes>"
      ]
     },
     "metadata": {
      "needs_background": "light"
     },
     "output_type": "display_data"
    }
   ],
   "source": [
    "train_df['label'].value_counts().plot.bar(rot=0)"
   ]
  },
  {
   "cell_type": "markdown",
   "id": "e347d5c2",
   "metadata": {
    "papermill": {
     "duration": 0.028867,
     "end_time": "2023-03-08T16:31:10.801698",
     "exception": false,
     "start_time": "2023-03-08T16:31:10.772831",
     "status": "completed"
    },
    "tags": []
   },
   "source": [
    "# **Pytorch**"
   ]
  },
  {
   "cell_type": "code",
   "execution_count": 9,
   "id": "b21e2603",
   "metadata": {
    "execution": {
     "iopub.execute_input": "2023-03-08T16:31:10.864732Z",
     "iopub.status.busy": "2023-03-08T16:31:10.864199Z",
     "iopub.status.idle": "2023-03-08T16:31:12.369922Z",
     "shell.execute_reply": "2023-03-08T16:31:12.370666Z",
     "shell.execute_reply.started": "2023-03-08T16:19:42.171395Z"
    },
    "papermill": {
     "duration": 1.539339,
     "end_time": "2023-03-08T16:31:12.370873",
     "exception": false,
     "start_time": "2023-03-08T16:31:10.831534",
     "status": "completed"
    },
    "tags": []
   },
   "outputs": [],
   "source": [
    "import torch\n",
    "import torch.nn as nn"
   ]
  },
  {
   "cell_type": "markdown",
   "id": "4c05fe3b",
   "metadata": {
    "papermill": {
     "duration": 0.041365,
     "end_time": "2023-03-08T16:31:12.454090",
     "exception": false,
     "start_time": "2023-03-08T16:31:12.412725",
     "status": "completed"
    },
    "tags": []
   },
   "source": [
    "# **Custom Dataset**"
   ]
  },
  {
   "cell_type": "code",
   "execution_count": 10,
   "id": "4595e444",
   "metadata": {
    "execution": {
     "iopub.execute_input": "2023-03-08T16:31:12.546393Z",
     "iopub.status.busy": "2023-03-08T16:31:12.545678Z",
     "iopub.status.idle": "2023-03-08T16:31:12.548615Z",
     "shell.execute_reply": "2023-03-08T16:31:12.549160Z",
     "shell.execute_reply.started": "2023-03-08T16:19:42.177998Z"
    },
    "papermill": {
     "duration": 0.053409,
     "end_time": "2023-03-08T16:31:12.549331",
     "exception": false,
     "start_time": "2023-03-08T16:31:12.495922",
     "status": "completed"
    },
    "tags": []
   },
   "outputs": [],
   "source": [
    "class DigitDataset:\n",
    "    \n",
    "    def __init__(self, data, labels = None, is_test = False):\n",
    "        self.data = data / 255.0\n",
    "        self.labels = labels if labels is not None else None\n",
    "        self.is_test = is_test\n",
    "    \n",
    "    def __len__(self):\n",
    "        return self.data.shape[0]\n",
    "    \n",
    "    def __getitem__(self, idx):\n",
    "        \n",
    "        sample = self.data[idx,:]\n",
    "        \n",
    "        if self.is_test is False:\n",
    "            \n",
    "            label = self.labels[idx]\n",
    "            \n",
    "            return (\n",
    "                torch.tensor(sample, dtype=torch.float).view(28,28).unsqueeze(0),\n",
    "                torch.tensor(label, dtype=torch.long)\n",
    "            )\n",
    "        \n",
    "        else:\n",
    "            return torch.tensor(sample, dtype=torch.float)"
   ]
  },
  {
   "cell_type": "code",
   "execution_count": 11,
   "id": "8ce14617",
   "metadata": {
    "execution": {
     "iopub.execute_input": "2023-03-08T16:31:12.639901Z",
     "iopub.status.busy": "2023-03-08T16:31:12.639179Z",
     "iopub.status.idle": "2023-03-08T16:31:13.861726Z",
     "shell.execute_reply": "2023-03-08T16:31:13.861245Z",
     "shell.execute_reply.started": "2023-03-08T16:19:42.191057Z"
    },
    "papermill": {
     "duration": 1.27099,
     "end_time": "2023-03-08T16:31:13.861859",
     "exception": false,
     "start_time": "2023-03-08T16:31:12.590869",
     "status": "completed"
    },
    "tags": []
   },
   "outputs": [],
   "source": [
    "from sklearn.model_selection import train_test_split\n",
    "\n",
    "# train and validation split\n",
    "X = train_df.iloc[:,1:].values\n",
    "y = train_df.iloc[:,0].values\n",
    "X_train, X_val, y_train, y_val = train_test_split(X,y, test_size=0.2)\n",
    "\n",
    "\n",
    "# test \n",
    "X_test = test_df.values\n",
    "\n",
    "train_ds = DigitDataset(X_train, y_train)\n",
    "val_ds = DigitDataset(X_val, y_val)\n",
    "test_ds = DigitDataset(X_test, is_test = True)"
   ]
  },
  {
   "cell_type": "markdown",
   "id": "e861e326",
   "metadata": {
    "papermill": {
     "duration": 0.028757,
     "end_time": "2023-03-08T16:31:13.920118",
     "exception": false,
     "start_time": "2023-03-08T16:31:13.891361",
     "status": "completed"
    },
    "tags": []
   },
   "source": [
    "## Config"
   ]
  },
  {
   "cell_type": "code",
   "execution_count": 12,
   "id": "e07d3098",
   "metadata": {
    "execution": {
     "iopub.execute_input": "2023-03-08T16:31:13.983308Z",
     "iopub.status.busy": "2023-03-08T16:31:13.981940Z",
     "iopub.status.idle": "2023-03-08T16:31:13.983813Z",
     "shell.execute_reply": "2023-03-08T16:31:13.984597Z",
     "shell.execute_reply.started": "2023-03-08T16:19:42.870537Z"
    },
    "papermill": {
     "duration": 0.035841,
     "end_time": "2023-03-08T16:31:13.984730",
     "exception": false,
     "start_time": "2023-03-08T16:31:13.948889",
     "status": "completed"
    },
    "tags": []
   },
   "outputs": [],
   "source": [
    "class Config:\n",
    "    learning_rate = 3e-4\n",
    "    epochs = 30\n",
    "    train_batch_size = 32\n",
    "    valid_batch_size = 32\n",
    "    test_batch_size = 64"
   ]
  },
  {
   "cell_type": "markdown",
   "id": "277a52d5",
   "metadata": {
    "papermill": {
     "duration": 0.029559,
     "end_time": "2023-03-08T16:31:14.043401",
     "exception": false,
     "start_time": "2023-03-08T16:31:14.013842",
     "status": "completed"
    },
    "tags": []
   },
   "source": [
    "## Pytorch Dataloader"
   ]
  },
  {
   "cell_type": "code",
   "execution_count": 13,
   "id": "db8777c7",
   "metadata": {
    "execution": {
     "iopub.execute_input": "2023-03-08T16:31:14.107186Z",
     "iopub.status.busy": "2023-03-08T16:31:14.106444Z",
     "iopub.status.idle": "2023-03-08T16:31:14.108977Z",
     "shell.execute_reply": "2023-03-08T16:31:14.108556Z",
     "shell.execute_reply.started": "2023-03-08T16:19:42.877150Z"
    },
    "papermill": {
     "duration": 0.037132,
     "end_time": "2023-03-08T16:31:14.109111",
     "exception": false,
     "start_time": "2023-03-08T16:31:14.071979",
     "status": "completed"
    },
    "tags": []
   },
   "outputs": [],
   "source": [
    "train_dataloader = torch.utils.data.DataLoader(dataset=train_ds, \n",
    "                                               batch_size=Config.train_batch_size, \n",
    "                                               num_workers=2, \n",
    "                                               shuffle=True\n",
    "                                              )\n",
    "\n",
    "val_dataloader = torch.utils.data.DataLoader(dataset=val_ds, \n",
    "                                             batch_size=Config.valid_batch_size, \n",
    "                                             num_workers=2, \n",
    "                                             shuffle=True\n",
    "                                            )\n",
    "\n",
    "test_dataloader = torch.utils.data.DataLoader(dataset=test_ds,\n",
    "                                             batch_size=Config.test_batch_size,\n",
    "                                             shuffle=False\n",
    "                                             )"
   ]
  },
  {
   "cell_type": "code",
   "execution_count": 14,
   "id": "5132d9db",
   "metadata": {
    "execution": {
     "iopub.execute_input": "2023-03-08T16:31:14.171446Z",
     "iopub.status.busy": "2023-03-08T16:31:14.170778Z",
     "iopub.status.idle": "2023-03-08T16:31:14.173365Z",
     "shell.execute_reply": "2023-03-08T16:31:14.173867Z",
     "shell.execute_reply.started": "2023-03-08T16:19:42.890628Z"
    },
    "papermill": {
     "duration": 0.036148,
     "end_time": "2023-03-08T16:31:14.173988",
     "exception": false,
     "start_time": "2023-03-08T16:31:14.137840",
     "status": "completed"
    },
    "tags": []
   },
   "outputs": [
    {
     "data": {
      "text/plain": [
       "(1050, 263, 438)"
      ]
     },
     "execution_count": 14,
     "metadata": {},
     "output_type": "execute_result"
    }
   ],
   "source": [
    "len(train_dataloader), len(val_dataloader), len(test_dataloader)"
   ]
  },
  {
   "cell_type": "markdown",
   "id": "140a12f0",
   "metadata": {
    "papermill": {
     "duration": 0.029217,
     "end_time": "2023-03-08T16:31:14.232494",
     "exception": false,
     "start_time": "2023-03-08T16:31:14.203277",
     "status": "completed"
    },
    "tags": []
   },
   "source": [
    "# **Model**\n",
    "\n",
    "\n",
    "- **Input layer:** 28*28 = 784 pixels\n",
    "- **Hidden layer 1:** 512 Neurons with ReLU activation\n",
    "- **Dropout layer 1:** probability of an element to be made zero = 0.2\n",
    "- **Hidden layer 2:** 256 Neurons with ReLU activation\n",
    "- **Dropout layer 2:** probability of an element to be made zero = 0.1\n",
    "- **Output layer:** 10 Neurons for the 10 output classes\n",
    "\n",
    "---\n",
    "\n",
    "##### **Loss:** Cross Entropy Loss\n",
    "##### **Optimizer:** Adam\n",
    "\n",
    "---\n",
    "\n",
    "#### Notes:\n",
    "\n",
    "- I could've added a [LogSoftmax()](https://pytorch.org/docs/stable/generated/torch.nn.LogSoftmax.html?highlight=logsoftmax#torch.nn.LogSoftmax) activation function for the output layer only if\n",
    "  I was using Pytorch [NLLLoss()](https://pytorch.org/docs/stable/generated/torch.nn.NLLLoss.html?highlight=nllloss#torch.nn.NLLLoss)\n",
    "  \n",
    "  from NLLLoss docs: `Obtaining log-probabilities in a neural network is easily achieved by adding a LogSoftmax layer in the last layer of your network. You may use CrossEntropyLoss instead, if you prefer not to add an extra layer.`\n",
    "  \n",
    "  Instead, If I use the [CrossEntropyLoss()](https://pytorch.org/docs/stable/generated/torch.nn.CrossEntropyLoss.html?highlight=crossentropyloss#torch.nn.CrossEntropyLoss), it combines LogSoftmax and NLLLoss in a single class,\n",
    "  hence, for CrossEntropyLoss, I don't have to apply LogSoftmax again, and CrossEntropyLoss\n",
    "  actually requires direct neuron outputs -- called \"Logits\"\n",
    "  \n",
    "  cool stackoverflow explanation: [pytorch-logsoftmax-vs-softmax-for-crossentropyloss](https://stackoverflow.com/questions/65192475/pytorch-logsoftmax-vs-softmax-for-crossentropyloss)\n",
    "\n",
    "- Activation Layer: \n",
    "```\n",
    "ReLU(X) = {\n",
    "                0,  X<=0\n",
    "                X,  X>0\n",
    "            }\n",
    "```\n",
    "\n",
    "- for training device, I'll stick to CPU since it's not that intensive.\n",
    "\n",
    "---\n",
    "\n"
   ]
  },
  {
   "cell_type": "code",
   "execution_count": 15,
   "id": "4f5049bf",
   "metadata": {
    "execution": {
     "iopub.execute_input": "2023-03-08T16:31:14.296369Z",
     "iopub.status.busy": "2023-03-08T16:31:14.292796Z",
     "iopub.status.idle": "2023-03-08T16:31:14.298197Z",
     "shell.execute_reply": "2023-03-08T16:31:14.298604Z",
     "shell.execute_reply.started": "2023-03-08T16:19:42.900787Z"
    },
    "papermill": {
     "duration": 0.037129,
     "end_time": "2023-03-08T16:31:14.298724",
     "exception": false,
     "start_time": "2023-03-08T16:31:14.261595",
     "status": "completed"
    },
    "tags": []
   },
   "outputs": [],
   "source": [
    "class DigitsModel(nn.Module):\n",
    "    \n",
    "    def __init__(self):\n",
    "        super(DigitsModel, self).__init__()\n",
    "        \n",
    "        self.conv_stack = nn.Sequential(nn.Conv2d(1,16,3),\n",
    "                                        nn.MaxPool2d(2),\n",
    "                                        nn.ReLU(),\n",
    "                                        nn.Conv2d(16,32,3),\n",
    "                                        nn.MaxPool2d(2),\n",
    "                                        nn.ReLU(),\n",
    "                                        nn.Dropout(0.2),\n",
    "                                        nn.Flatten(),\n",
    "                                        nn.Linear(800,10)\n",
    "                                       )\n",
    "        \n",
    "    def forward(self, X):\n",
    "        logits = self.conv_stack(X)\n",
    "        return logits"
   ]
  },
  {
   "cell_type": "code",
   "execution_count": 16,
   "id": "e08f56af",
   "metadata": {
    "execution": {
     "iopub.execute_input": "2023-03-08T16:31:14.363815Z",
     "iopub.status.busy": "2023-03-08T16:31:14.363287Z",
     "iopub.status.idle": "2023-03-08T16:31:14.468137Z",
     "shell.execute_reply": "2023-03-08T16:31:14.468578Z",
     "shell.execute_reply.started": "2023-03-08T16:19:42.909214Z"
    },
    "papermill": {
     "duration": 0.140751,
     "end_time": "2023-03-08T16:31:14.468719",
     "exception": false,
     "start_time": "2023-03-08T16:31:14.327968",
     "status": "completed"
    },
    "tags": []
   },
   "outputs": [
    {
     "data": {
      "text/plain": [
       "torch.Size([1, 10])"
      ]
     },
     "execution_count": 16,
     "metadata": {},
     "output_type": "execute_result"
    }
   ],
   "source": [
    "model = DigitsModel()\n",
    "model(torch.rand(1,1,28,28)).shape"
   ]
  },
  {
   "cell_type": "markdown",
   "id": "8061eef9",
   "metadata": {
    "papermill": {
     "duration": 0.029435,
     "end_time": "2023-03-08T16:31:14.528875",
     "exception": false,
     "start_time": "2023-03-08T16:31:14.499440",
     "status": "completed"
    },
    "tags": []
   },
   "source": [
    "## Training and Validation Loops"
   ]
  },
  {
   "cell_type": "markdown",
   "id": "45666b19",
   "metadata": {
    "papermill": {
     "duration": 0.029688,
     "end_time": "2023-03-08T16:31:14.588152",
     "exception": false,
     "start_time": "2023-03-08T16:31:14.558464",
     "status": "completed"
    },
    "tags": []
   },
   "source": [
    "### Calculating Loss\n",
    "\n",
    "\n",
    "#### LOSS: \n",
    "- for every epoch, there is: **Running Loss** initialized to 0\n",
    "- Running Loss = Previous batch(s) running loss + (loss calculated by loss function for current batch) \n",
    "  ```\n",
    "      running_loss += loss\n",
    "      \n",
    "  ```\n",
    "    \n",
    "    \n",
    "- for every epoch: **Total Loss = Running Loss for that epoch / length of dataloader**\n"
   ]
  },
  {
   "cell_type": "code",
   "execution_count": 17,
   "id": "ac5b7f72",
   "metadata": {
    "execution": {
     "iopub.execute_input": "2023-03-08T16:31:14.664057Z",
     "iopub.status.busy": "2023-03-08T16:31:14.663198Z",
     "iopub.status.idle": "2023-03-08T16:31:14.665142Z",
     "shell.execute_reply": "2023-03-08T16:31:14.665521Z",
     "shell.execute_reply.started": "2023-03-08T16:19:42.926078Z"
    },
    "papermill": {
     "duration": 0.047727,
     "end_time": "2023-03-08T16:31:14.665652",
     "exception": false,
     "start_time": "2023-03-08T16:31:14.617925",
     "status": "completed"
    },
    "tags": []
   },
   "outputs": [],
   "source": [
    "class Trainer:\n",
    "    def __init__(self, model, dataloaders, optimizer, loss_fn, Config):\n",
    "        self.model = model\n",
    "        self.train_loader, self.valid_loader = dataloaders\n",
    "        self.Config = Config\n",
    "        \n",
    "        if optimizer is 'Adam':\n",
    "            self.optimizer = torch.optim.Adam(self.model.parameters(), lr=self.Config.learning_rate)\n",
    "        if loss_fn is 'CrossEntropyLoss':\n",
    "            self.loss_fn = nn.CrossEntropyLoss()\n",
    "            \n",
    "    def accuracy(self, outputs, labels):\n",
    "        pred_labels = torch.argmax(outputs, dim=1)\n",
    "        return  (pred_labels == labels).sum().item() / len(pred_labels)\n",
    "        \n",
    "    def train_one_epoch(self):\n",
    "        \n",
    "        running_loss = 0.0\n",
    "        running_acc = 0.0\n",
    "        \n",
    "        for batch_num, (X,y) in enumerate(self.train_loader):\n",
    "            \n",
    "            # reset gradients to 0\n",
    "            self.optimizer.zero_grad()\n",
    "            \n",
    "            X,y = X.to('cuda'), y.to('cuda')\n",
    "            \n",
    "            preds = self.model(X)\n",
    "            loss = self.loss_fn(preds, y)\n",
    "            \n",
    "            # calculate gradients\n",
    "            loss.backward()\n",
    "            \n",
    "            # update weights\n",
    "            self.optimizer.step()\n",
    "            \n",
    "            # updating running loss\n",
    "            running_loss += loss.item()\n",
    "            \n",
    "            # accuracy\n",
    "            running_acc += self.accuracy(preds, y)\n",
    "            \n",
    "        train_loss = running_loss / len(self.train_loader)\n",
    "        train_acc = running_acc / len(self.train_loader)\n",
    "        \n",
    "        return train_loss, train_acc\n",
    "        \n",
    "        \n",
    "    def valid_one_epoch(self):\n",
    "        \n",
    "        running_loss = 0.0\n",
    "        running_acc = 0.0\n",
    "        \n",
    "        for batch_num, (X,y) in enumerate(self.valid_loader):\n",
    "            \n",
    "            X,y = X.to('cuda'), y.to('cuda')\n",
    "            \n",
    "            preds = self.model(X)\n",
    "            loss = self.loss_fn(preds, y)\n",
    "            \n",
    "            running_loss += loss.item()\n",
    "            \n",
    "            # accuracy\n",
    "            running_acc += self.accuracy(preds, y)\n",
    "            \n",
    "        valid_loss = running_loss / len(self.valid_loader)\n",
    "        valid_acc = running_acc / len(self.valid_loader)\n",
    "        \n",
    "        return valid_loss, valid_acc\n",
    "    \n",
    "    \n",
    "    def fit(self):\n",
    "        \n",
    "        train_losses, train_accuracies = [], []\n",
    "        valid_losses, valid_accuracies = [], []\n",
    "        \n",
    "        valid_preds = []\n",
    "        valid_labels = []\n",
    "        \n",
    "        for epoch in range(self.Config.epochs):\n",
    "                \n",
    "            self.model.train()\n",
    "            \n",
    "            train_loss, train_acc = self.train_one_epoch()\n",
    "            train_losses.append(train_loss)\n",
    "            train_accuracies.append(train_acc)\n",
    "            \n",
    "            with torch.no_grad():\n",
    "                \n",
    "                self.model.eval()\n",
    "                \n",
    "                valid_loss, valid_acc = self.valid_one_epoch()\n",
    "                valid_losses.append(valid_loss)\n",
    "                valid_accuracies.append(valid_acc)\n",
    "                \n",
    "                \n",
    "            print(f\"EPOCH: {epoch+1}\")\n",
    "            print(f\"Train: loss: {train_loss:.3f} accuracy: {train_acc:.3f}\")\n",
    "            print(f\"Validation: loss: {valid_loss:.3f} accuracy: {valid_acc:.3f}\\n\")\n",
    "            \n",
    "            \n",
    "        return (train_losses, train_accuracies), (valid_losses, valid_accuracies)\n",
    "    \n",
    "    \n",
    "    @torch.no_grad()\n",
    "    def predict(self, test_loader):\n",
    "        \n",
    "        self.model.eval()\n",
    "        \n",
    "        predictions = []\n",
    "        \n",
    "        for X in test_loader:\n",
    "            \n",
    "            preds = self.model(X)\n",
    "            pred_labels = torch.argmax(preds, dim=1)\n",
    "            predictions.append(pred_labels)\n",
    "            \n",
    "        return torch.cat(predictions).numpy()\n"
   ]
  },
  {
   "cell_type": "code",
   "execution_count": 18,
   "id": "8b6b604b",
   "metadata": {
    "execution": {
     "iopub.execute_input": "2023-03-08T16:31:14.790386Z",
     "iopub.status.busy": "2023-03-08T16:31:14.789716Z",
     "iopub.status.idle": "2023-03-08T16:34:04.683768Z",
     "shell.execute_reply": "2023-03-08T16:34:04.684435Z",
     "shell.execute_reply.started": "2023-03-08T16:19:42.945558Z"
    },
    "papermill": {
     "duration": 169.989771,
     "end_time": "2023-03-08T16:34:04.684656",
     "exception": false,
     "start_time": "2023-03-08T16:31:14.694885",
     "status": "completed"
    },
    "tags": []
   },
   "outputs": [
    {
     "name": "stdout",
     "output_type": "stream",
     "text": [
      "EPOCH: 1\n",
      "Train: loss: 0.592 accuracy: 0.834\n",
      "Validation: loss: 0.207 accuracy: 0.939\n",
      "\n",
      "EPOCH: 2\n",
      "Train: loss: 0.173 accuracy: 0.950\n",
      "Validation: loss: 0.123 accuracy: 0.964\n",
      "\n",
      "EPOCH: 3\n",
      "Train: loss: 0.120 accuracy: 0.964\n",
      "Validation: loss: 0.099 accuracy: 0.971\n",
      "\n",
      "EPOCH: 4\n",
      "Train: loss: 0.097 accuracy: 0.971\n",
      "Validation: loss: 0.088 accuracy: 0.974\n",
      "\n",
      "EPOCH: 5\n",
      "Train: loss: 0.084 accuracy: 0.974\n",
      "Validation: loss: 0.073 accuracy: 0.978\n",
      "\n",
      "EPOCH: 6\n",
      "Train: loss: 0.074 accuracy: 0.978\n",
      "Validation: loss: 0.068 accuracy: 0.981\n",
      "\n",
      "EPOCH: 7\n",
      "Train: loss: 0.068 accuracy: 0.979\n",
      "Validation: loss: 0.066 accuracy: 0.982\n",
      "\n",
      "EPOCH: 8\n",
      "Train: loss: 0.063 accuracy: 0.981\n",
      "Validation: loss: 0.060 accuracy: 0.983\n",
      "\n",
      "EPOCH: 9\n",
      "Train: loss: 0.058 accuracy: 0.982\n",
      "Validation: loss: 0.059 accuracy: 0.983\n",
      "\n",
      "EPOCH: 10\n",
      "Train: loss: 0.053 accuracy: 0.983\n",
      "Validation: loss: 0.056 accuracy: 0.984\n",
      "\n",
      "EPOCH: 11\n",
      "Train: loss: 0.051 accuracy: 0.984\n",
      "Validation: loss: 0.057 accuracy: 0.984\n",
      "\n",
      "EPOCH: 12\n",
      "Train: loss: 0.049 accuracy: 0.984\n",
      "Validation: loss: 0.053 accuracy: 0.984\n",
      "\n",
      "EPOCH: 13\n",
      "Train: loss: 0.046 accuracy: 0.985\n",
      "Validation: loss: 0.055 accuracy: 0.983\n",
      "\n",
      "EPOCH: 14\n",
      "Train: loss: 0.043 accuracy: 0.986\n",
      "Validation: loss: 0.053 accuracy: 0.985\n",
      "\n",
      "EPOCH: 15\n",
      "Train: loss: 0.042 accuracy: 0.987\n",
      "Validation: loss: 0.054 accuracy: 0.984\n",
      "\n",
      "EPOCH: 16\n",
      "Train: loss: 0.040 accuracy: 0.987\n",
      "Validation: loss: 0.050 accuracy: 0.986\n",
      "\n",
      "EPOCH: 17\n",
      "Train: loss: 0.038 accuracy: 0.988\n",
      "Validation: loss: 0.048 accuracy: 0.986\n",
      "\n",
      "EPOCH: 18\n",
      "Train: loss: 0.036 accuracy: 0.988\n",
      "Validation: loss: 0.051 accuracy: 0.985\n",
      "\n",
      "EPOCH: 19\n",
      "Train: loss: 0.035 accuracy: 0.989\n",
      "Validation: loss: 0.050 accuracy: 0.985\n",
      "\n",
      "EPOCH: 20\n",
      "Train: loss: 0.035 accuracy: 0.988\n",
      "Validation: loss: 0.048 accuracy: 0.987\n",
      "\n",
      "EPOCH: 21\n",
      "Train: loss: 0.034 accuracy: 0.990\n",
      "Validation: loss: 0.049 accuracy: 0.984\n",
      "\n",
      "EPOCH: 22\n",
      "Train: loss: 0.033 accuracy: 0.990\n",
      "Validation: loss: 0.050 accuracy: 0.985\n",
      "\n",
      "EPOCH: 23\n",
      "Train: loss: 0.031 accuracy: 0.991\n",
      "Validation: loss: 0.047 accuracy: 0.987\n",
      "\n",
      "EPOCH: 24\n",
      "Train: loss: 0.029 accuracy: 0.990\n",
      "Validation: loss: 0.046 accuracy: 0.987\n",
      "\n",
      "EPOCH: 25\n",
      "Train: loss: 0.030 accuracy: 0.991\n",
      "Validation: loss: 0.047 accuracy: 0.988\n",
      "\n",
      "EPOCH: 26\n",
      "Train: loss: 0.028 accuracy: 0.991\n",
      "Validation: loss: 0.048 accuracy: 0.987\n",
      "\n",
      "EPOCH: 27\n",
      "Train: loss: 0.028 accuracy: 0.991\n",
      "Validation: loss: 0.048 accuracy: 0.987\n",
      "\n",
      "EPOCH: 28\n",
      "Train: loss: 0.028 accuracy: 0.991\n",
      "Validation: loss: 0.049 accuracy: 0.986\n",
      "\n",
      "EPOCH: 29\n",
      "Train: loss: 0.026 accuracy: 0.991\n",
      "Validation: loss: 0.043 accuracy: 0.988\n",
      "\n",
      "EPOCH: 30\n",
      "Train: loss: 0.025 accuracy: 0.992\n",
      "Validation: loss: 0.045 accuracy: 0.988\n",
      "\n"
     ]
    }
   ],
   "source": [
    "trainer = Trainer(model = model.to('cuda'),\n",
    "                  dataloaders = (train_dataloader, val_dataloader),\n",
    "                  optimizer = \"Adam\",\n",
    "                  loss_fn = \"CrossEntropyLoss\",\n",
    "                  Config = Config\n",
    "                 )\n",
    "\n",
    "(train_losses, train_accuracies), (valid_losses, valid_accuracies) = trainer.fit()"
   ]
  },
  {
   "cell_type": "markdown",
   "id": "0c75e978",
   "metadata": {
    "papermill": {
     "duration": 0.040013,
     "end_time": "2023-03-08T16:34:04.764446",
     "exception": false,
     "start_time": "2023-03-08T16:34:04.724433",
     "status": "completed"
    },
    "tags": []
   },
   "source": [
    "## Plots"
   ]
  },
  {
   "cell_type": "code",
   "execution_count": 19,
   "id": "b7c6b896",
   "metadata": {
    "execution": {
     "iopub.execute_input": "2023-03-08T16:34:04.869980Z",
     "iopub.status.busy": "2023-03-08T16:34:04.869119Z",
     "iopub.status.idle": "2023-03-08T16:34:05.071866Z",
     "shell.execute_reply": "2023-03-08T16:34:05.073122Z",
     "shell.execute_reply.started": "2023-03-08T16:22:28.657570Z"
    },
    "papermill": {
     "duration": 0.270072,
     "end_time": "2023-03-08T16:34:05.073379",
     "exception": false,
     "start_time": "2023-03-08T16:34:04.803307",
     "status": "completed"
    },
    "tags": []
   },
   "outputs": [
    {
     "data": {
      "text/plain": [
       "[<matplotlib.lines.Line2D at 0x7f35a427e150>]"
      ]
     },
     "execution_count": 19,
     "metadata": {},
     "output_type": "execute_result"
    },
    {
     "data": {
      "image/png": "[encoded data removed]",
      "text/plain": [
       "<Figure size 432x288 with 1 Axes>"
      ]
     },
     "metadata": {
      "needs_background": "light"
     },
     "output_type": "display_data"
    }
   ],
   "source": [
    "plt.plot(train_losses, color='red')"
   ]
  },
  {
   "cell_type": "code",
   "execution_count": 20,
   "id": "654e1f49",
   "metadata": {
    "execution": {
     "iopub.execute_input": "2023-03-08T16:34:05.237252Z",
     "iopub.status.busy": "2023-03-08T16:34:05.235537Z",
     "iopub.status.idle": "2023-03-08T16:34:05.486688Z",
     "shell.execute_reply": "2023-03-08T16:34:05.487660Z",
     "shell.execute_reply.started": "2023-03-08T16:22:28.866742Z"
    },
    "papermill": {
     "duration": 0.333031,
     "end_time": "2023-03-08T16:34:05.487861",
     "exception": false,
     "start_time": "2023-03-08T16:34:05.154830",
     "status": "completed"
    },
    "tags": []
   },
   "outputs": [
    {
     "data": {
      "text/plain": [
       "[<matplotlib.lines.Line2D at 0x7f359c084210>]"
      ]
     },
     "execution_count": 20,
     "metadata": {},
     "output_type": "execute_result"
    },
    {
     "data": {
      "image/png": "[encoded data removed]",
      "text/plain": [
       "<Figure size 432x288 with 1 Axes>"
      ]
     },
     "metadata": {
      "needs_background": "light"
     },
     "output_type": "display_data"
    }
   ],
   "source": [
    "plt.plot(valid_losses, color='orange')"
   ]
  },
  {
   "cell_type": "code",
   "execution_count": 21,
   "id": "7dfbabee",
   "metadata": {
    "execution": {
     "iopub.execute_input": "2023-03-08T16:34:05.616482Z",
     "iopub.status.busy": "2023-03-08T16:34:05.615746Z",
     "iopub.status.idle": "2023-03-08T16:34:05.826342Z",
     "shell.execute_reply": "2023-03-08T16:34:05.825875Z",
     "shell.execute_reply.started": "2023-03-08T16:22:29.079419Z"
    },
    "papermill": {
     "duration": 0.279002,
     "end_time": "2023-03-08T16:34:05.826474",
     "exception": false,
     "start_time": "2023-03-08T16:34:05.547472",
     "status": "completed"
    },
    "tags": []
   },
   "outputs": [
    {
     "data": {
      "text/plain": [
       "[<matplotlib.lines.Line2D at 0x7f3596dd8e90>]"
      ]
     },
     "execution_count": 21,
     "metadata": {},
     "output_type": "execute_result"
    },
    {
     "data": {
      "image/png": "[encoded data removed]",
      "text/plain": [
       "<Figure size 432x288 with 1 Axes>"
      ]
     },
     "metadata": {
      "needs_background": "light"
     },
     "output_type": "display_data"
    }
   ],
   "source": [
    "plt.plot(train_accuracies, color='blue')\n",
    "plt.plot(valid_accuracies, color='green')"
   ]
  },
  {
   "cell_type": "code",
   "execution_count": 22,
   "id": "a26c49cb",
   "metadata": {
    "execution": {
     "iopub.execute_input": "2023-03-08T16:34:05.928758Z",
     "iopub.status.busy": "2023-03-08T16:34:05.927811Z",
     "iopub.status.idle": "2023-03-08T16:34:29.683413Z",
     "shell.execute_reply": "2023-03-08T16:34:29.682830Z",
     "shell.execute_reply.started": "2023-03-08T16:24:15.565454Z"
    },
    "papermill": {
     "duration": 23.812198,
     "end_time": "2023-03-08T16:34:29.683552",
     "exception": false,
     "start_time": "2023-03-08T16:34:05.871354",
     "status": "completed"
    },
    "tags": []
   },
   "outputs": [
    {
     "name": "stdout",
     "output_type": "stream",
     "text": [
      "\u001b[31mERROR: pip's dependency resolver does not currently take into account all the packages that are installed. This behaviour is the source of the following dependency conflicts.\r\n",
      "tensorflow-io 0.21.0 requires tensorflow-io-gcs-filesystem==0.21.0, which is not installed.\r\n",
      "explainable-ai-sdk 1.3.2 requires xai-image-widget, which is not installed.\r\n",
      "dask-cudf 21.10.1 requires cupy-cuda114, which is not installed.\r\n",
      "beatrix-jupyterlab 3.1.6 requires google-cloud-bigquery-storage, which is not installed.\r\n",
      "thinc 8.0.15 requires typing-extensions<4.0.0.0,>=3.7.4.1; python_version < \"3.8\", but you have typing-extensions 4.1.1 which is incompatible.\r\n",
      "tfx-bsl 1.5.0 requires absl-py<0.13,>=0.9, but you have absl-py 0.15.0 which is incompatible.\r\n",
      "tfx-bsl 1.5.0 requires numpy<1.20,>=1.16, but you have numpy 1.21.6 which is incompatible.\r\n",
      "tfx-bsl 1.5.0 requires pyarrow<6,>=1, but you have pyarrow 6.0.1 which is incompatible.\r\n",
      "tfx-bsl 1.5.0 requires tensorflow!=2.0.*,!=2.1.*,!=2.2.*,!=2.3.*,!=2.4.*,!=2.5.*,!=2.6.*,<3,>=1.15.2, but you have tensorflow 2.6.2 which is incompatible.\r\n",
      "tensorflow 2.6.2 requires numpy~=1.19.2, but you have numpy 1.21.6 which is incompatible.\r\n",
      "tensorflow 2.6.2 requires six~=1.15.0, but you have six 1.16.0 which is incompatible.\r\n",
      "tensorflow 2.6.2 requires typing-extensions~=3.7.4, but you have typing-extensions 4.1.1 which is incompatible.\r\n",
      "tensorflow 2.6.2 requires wrapt~=1.12.1, but you have wrapt 1.13.3 which is incompatible.\r\n",
      "tensorflow-transform 1.5.0 requires absl-py<0.13,>=0.9, but you have absl-py 0.15.0 which is incompatible.\r\n",
      "tensorflow-transform 1.5.0 requires numpy<1.20,>=1.16, but you have numpy 1.21.6 which is incompatible.\r\n",
      "tensorflow-transform 1.5.0 requires pyarrow<6,>=1, but you have pyarrow 6.0.1 which is incompatible.\r\n",
      "tensorflow-transform 1.5.0 requires tensorflow!=2.0.*,!=2.1.*,!=2.2.*,!=2.3.*,!=2.4.*,!=2.5.*,!=2.6.*,<2.8,>=1.15.2, but you have tensorflow 2.6.2 which is incompatible.\r\n",
      "tensorflow-serving-api 2.7.0 requires tensorflow<3,>=2.7.0, but you have tensorflow 2.6.2 which is incompatible.\r\n",
      "tensorflow-metadata 1.5.0 requires absl-py<0.13,>=0.9, but you have absl-py 0.15.0 which is incompatible.\r\n",
      "spacy 3.2.3 requires typing-extensions<4.0.0.0,>=3.7.4; python_version < \"3.8\", but you have typing-extensions 4.1.1 which is incompatible.\r\n",
      "pdpbox 0.2.1 requires matplotlib==3.1.1, but you have matplotlib 3.5.1 which is incompatible.\r\n",
      "numba 0.54.1 requires numpy<1.21,>=1.17, but you have numpy 1.21.6 which is incompatible.\r\n",
      "gcsfs 2021.11.1 requires fsspec==2021.11.1, but you have fsspec 2022.2.0 which is incompatible.\r\n",
      "dask-cudf 21.10.1 requires dask==2021.09.1, but you have dask 2022.2.0 which is incompatible.\r\n",
      "dask-cudf 21.10.1 requires distributed==2021.09.1, but you have distributed 2022.2.0 which is incompatible.\r\n",
      "arviz 0.11.4 requires typing-extensions<4,>=3.7.4.3, but you have typing-extensions 4.1.1 which is incompatible.\r\n",
      "apache-beam 2.34.0 requires dill<0.3.2,>=0.3.1.1, but you have dill 0.3.4 which is incompatible.\r\n",
      "apache-beam 2.34.0 requires httplib2<0.20.0,>=0.8, but you have httplib2 0.20.2 which is incompatible.\r\n",
      "apache-beam 2.34.0 requires numpy<1.21.0,>=1.14.3, but you have numpy 1.21.6 which is incompatible.\r\n",
      "apache-beam 2.34.0 requires pyarrow<6.0.0,>=0.15.1, but you have pyarrow 6.0.1 which is incompatible.\r\n",
      "apache-beam 2.34.0 requires typing-extensions<4,>=3.7.0, but you have typing-extensions 4.1.1 which is incompatible.\u001b[0m\r\n",
      "\u001b[33mWARNING: Running pip as the 'root' user can result in broken permissions and conflicting behaviour with the system package manager. It is recommended to use a virtual environment instead: https://pip.pypa.io/warnings/venv\u001b[0m\r\n"
     ]
    }
   ],
   "source": [
    "!pip install onnx onnxruntime --upgrade -q"
   ]
  },
  {
   "cell_type": "code",
   "execution_count": 23,
   "id": "f33d6d88",
   "metadata": {
    "execution": {
     "iopub.execute_input": "2023-03-08T16:34:29.774835Z",
     "iopub.status.busy": "2023-03-08T16:34:29.773861Z",
     "iopub.status.idle": "2023-03-08T16:34:29.809504Z",
     "shell.execute_reply": "2023-03-08T16:34:29.808990Z",
     "shell.execute_reply.started": "2023-03-08T16:24:54.285274Z"
    },
    "papermill": {
     "duration": 0.083318,
     "end_time": "2023-03-08T16:34:29.809634",
     "exception": false,
     "start_time": "2023-03-08T16:34:29.726316",
     "status": "completed"
    },
    "tags": []
   },
   "outputs": [],
   "source": [
    "import torch.onnx\n",
    "import onnx\n",
    "import onnxruntime"
   ]
  },
  {
   "cell_type": "code",
   "execution_count": 24,
   "id": "4460fef1",
   "metadata": {
    "execution": {
     "iopub.execute_input": "2023-03-08T16:34:29.899477Z",
     "iopub.status.busy": "2023-03-08T16:34:29.898683Z",
     "iopub.status.idle": "2023-03-08T16:34:29.900728Z",
     "shell.execute_reply": "2023-03-08T16:34:29.901110Z",
     "shell.execute_reply.started": "2023-03-08T16:25:28.052529Z"
    },
    "papermill": {
     "duration": 0.04857,
     "end_time": "2023-03-08T16:34:29.901252",
     "exception": false,
     "start_time": "2023-03-08T16:34:29.852682",
     "status": "completed"
    },
    "tags": []
   },
   "outputs": [],
   "source": [
    "model = trainer.model"
   ]
  },
  {
   "cell_type": "code",
   "execution_count": 25,
   "id": "190c3344",
   "metadata": {
    "execution": {
     "iopub.execute_input": "2023-03-08T16:34:29.991465Z",
     "iopub.status.busy": "2023-03-08T16:34:29.990824Z",
     "iopub.status.idle": "2023-03-08T16:34:29.993568Z",
     "shell.execute_reply": "2023-03-08T16:34:29.993966Z",
     "shell.execute_reply.started": "2023-03-08T16:25:37.315286Z"
    },
    "papermill": {
     "duration": 0.050803,
     "end_time": "2023-03-08T16:34:29.994128",
     "exception": false,
     "start_time": "2023-03-08T16:34:29.943325",
     "status": "completed"
    },
    "tags": []
   },
   "outputs": [
    {
     "data": {
      "text/plain": [
       "DigitsModel(\n",
       "  (conv_stack): Sequential(\n",
       "    (0): Conv2d(1, 16, kernel_size=(3, 3), stride=(1, 1))\n",
       "    (1): MaxPool2d(kernel_size=2, stride=2, padding=0, dilation=1, ceil_mode=False)\n",
       "    (2): ReLU()\n",
       "    (3): Conv2d(16, 32, kernel_size=(3, 3), stride=(1, 1))\n",
       "    (4): MaxPool2d(kernel_size=2, stride=2, padding=0, dilation=1, ceil_mode=False)\n",
       "    (5): ReLU()\n",
       "    (6): Dropout(p=0.2, inplace=False)\n",
       "    (7): Flatten(start_dim=1, end_dim=-1)\n",
       "    (8): Linear(in_features=800, out_features=10, bias=True)\n",
       "  )\n",
       ")"
      ]
     },
     "execution_count": 25,
     "metadata": {},
     "output_type": "execute_result"
    }
   ],
   "source": [
    "model.eval()"
   ]
  },
  {
   "cell_type": "code",
   "execution_count": 26,
   "id": "a937b667",
   "metadata": {
    "execution": {
     "iopub.execute_input": "2023-03-08T16:34:30.086615Z",
     "iopub.status.busy": "2023-03-08T16:34:30.085730Z",
     "iopub.status.idle": "2023-03-08T16:34:30.186074Z",
     "shell.execute_reply": "2023-03-08T16:34:30.185528Z",
     "shell.execute_reply.started": "2023-03-08T16:28:38.447455Z"
    },
    "papermill": {
     "duration": 0.14978,
     "end_time": "2023-03-08T16:34:30.186242",
     "exception": false,
     "start_time": "2023-03-08T16:34:30.036462",
     "status": "completed"
    },
    "tags": []
   },
   "outputs": [],
   "source": [
    "# Input to the model\n",
    "x = torch.randn(1, 1, 28, 28, requires_grad=True).to('cuda')\n",
    "torch_out = model(x)\n",
    "\n",
    "# Export the model\n",
    "torch.onnx.export(model,                     # model being run\n",
    "                  x,                         # model input (or a tuple for multiple inputs)\n",
    "                  \"mnist.onnx\",   # where to save the model (can be a file or file-like object)\n",
    "                  export_params=True,        # store the trained parameter weights inside the model file\n",
    "                  opset_version=10,          # the ONNX version to export the model to\n",
    "                  do_constant_folding=True,  # whether to execute constant folding for optimization\n",
    "                  input_names = ['input'],   # the model's input names\n",
    "                  output_names = ['output'], # the model's output names\n",
    "                  dynamic_axes={'input' : {0 : 'batch_size'},    # variable length axes\n",
    "                                'output' : {0 : 'batch_size'}})"
   ]
  },
  {
   "cell_type": "code",
   "execution_count": 27,
   "id": "caa23545",
   "metadata": {
    "execution": {
     "iopub.execute_input": "2023-03-08T16:34:30.288495Z",
     "iopub.status.busy": "2023-03-08T16:34:30.276907Z",
     "iopub.status.idle": "2023-03-08T16:34:30.290987Z",
     "shell.execute_reply": "2023-03-08T16:34:30.290555Z",
     "shell.execute_reply.started": "2023-03-08T16:29:05.402814Z"
    },
    "papermill": {
     "duration": 0.061846,
     "end_time": "2023-03-08T16:34:30.291142",
     "exception": false,
     "start_time": "2023-03-08T16:34:30.229296",
     "status": "completed"
    },
    "tags": []
   },
   "outputs": [],
   "source": [
    "onnx_model = onnx.load(\"mnist.onnx\")\n",
    "onnx.checker.check_model(onnx_model)"
   ]
  }
 ],
 "metadata": {
  "kernelspec": {
   "display_name": "Python 3",
   "language": "python",
   "name": "python3"
  },
  "language_info": {
   "codemirror_mode": {
    "name": "ipython",
    "version": 3
   },
   "file_extension": ".py",
   "mimetype": "text/x-python",
   "name": "python",
   "nbconvert_exporter": "python",
   "pygments_lexer": "ipython3",
   "version": "3.7.12"
  },
  "papermill": {
   "default_parameters": {},
   "duration": 216.329053,
   "end_time": "2023-03-08T16:34:32.571199",
   "environment_variables": {},
   "exception": null,
   "input_path": "__notebook__.ipynb",
   "output_path": "__notebook__.ipynb",
   "parameters": {},
   "start_time": "2023-03-08T16:30:56.242146",
   "version": "2.3.3"
  }
 },
 "nbformat": 4,
 "nbformat_minor": 5
}
